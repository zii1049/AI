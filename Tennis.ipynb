import pandas as pd
from sklearn.model_selection import train_test_split
from sklearn.preprocessing import OneHotEncoder, LabelEncoder
from tensorflow.keras.models import Sequential
from tensorflow.keras.layers import Dense
from tensorflow.keras.optimizers import Adam

# Define the dataset
data = {
    'outlook': ['sunny', 'sunny', 'overcast', 'rainy', 'rainy', 'rainy', 'overcast', 'sunny', 'sunny', 'rainy', 'sunny', 'overcast', 'overcast', 'rainy'],
    'temperature': [85, 80, 83, 70, 68, 65, 64, 72, 69, 75, 75, 72, 81, 71],
    'humidity': [85, 90, 86, 96, 80, 70, 65, 95, 70, 80, 70, 90, 75, 91],
    'windy': [False, True, False, False, False, True, True, False, False, False, True, False, True, True],
    'play': ['no', 'no', 'yes', 'yes', 'yes', 'no', 'yes', 'no', 'yes', 'yes', 'yes', 'yes', 'yes', 'no']
}

# Convert data into a pandas DataFrame
data = pd.DataFrame(data)

# Encode categorical features (outlook, windy)
encoder = OneHotEncoder(handle_unknown='ignore', sparse=False)
encoded_data = pd.DataFrame(encoder.fit_transform(data[['outlook', 'windy']]), columns=encoder.get_feature_names_out(['outlook', 'windy']))
data = data.drop(['outlook', 'windy'], axis=1)
data = pd.concat([data, encoded_data], axis=1)

# Encode the target variable (play)
label_encoder = LabelEncoder()
data['play'] = label_encoder.fit_transform(data['play'])

# Split data into train and test sets
X_train, X_test, y_train, y_test = train_test_split(
    data.drop('play', axis=1), data['play'], test_size=0.2, random_state=42
)

# Build the neural network model
model = Sequential()
model.add(Dense(128, activation='relu', input_shape=(X_train.shape[1],)))
model.add(Dense(64, activation='relu'))
model.add(Dense(1, activation='sigmoid'))

# Compile the model
model.compile(optimizer=Adam(learning_rate=0.01), loss='binary_crossentropy', metrics=['accuracy'])

# Train the model
model.fit(X_train, y_train, epochs=100, batch_size=32, verbose=1)

# Evaluate the model
loss, accuracy = model.evaluate(X_test, y_test)
print('Test Accuracy: {:.2f}%'.format(accuracy * 100))

# Make predictions on new data
new_data = {'outlook': 'rainy', 'temperature': 70, 'humidity': 80, 'windy': False}
new_data_df = pd.DataFrame(new_data, index=[0])
encoded_new_data = pd.DataFrame(encoder.transform(new_data_df[['outlook', 'windy']]), columns=encoder.get_feature_names_out(['outlook', 'windy']))
new_data_df = new_data_df.drop(['outlook', 'windy'], axis=1)
new_data_df = pd.concat([new_data_df, encoded_new_data], axis=1)

# Ensure column order matches training data
new_data_df = new_data_df[X_train.columns]

prediction = model.predict(new_data_df)[0][0]
if prediction >= 0.5:
    print('Prediction: Play Tennis')
else:
    print('Prediction: Don\'t Play Tennis')
